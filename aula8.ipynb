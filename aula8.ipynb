{
 "cells": [
  {
   "cell_type": "markdown",
   "metadata": {},
   "source": [
    "\n",
    "\n",
    "\n",
    "\n",
    "\n",
    "Laço While\n",
    "O while e um bloco que repete um algoritimo enquanto uma determinada condiçao for verdadeira. vamos começar com uma\n",
    "demostraçao bem simples. criar um programa que exibe uma contagem de 0 a 10"
   ]
  },
  {
   "cell_type": "code",
   "execution_count": null,
   "metadata": {},
   "outputs": [],
   "source": [
    "# declaraçao de variavel\n",
    "numero = 10\n",
    "\n",
    "#loop\n",
    "while numero >= 0:\n",
    "    print(numero)\n",
    "    numero -= 1"
   ]
  },
  {
   "cell_type": "code",
   "execution_count": null,
   "metadata": {},
   "outputs": [],
   "source": [
    "cont = 0\n",
    "while cont < 10: \n",
    "      cont +=1\n",
    "      if cont %2 == 0:\n",
    "            print(cont)\n",
    "      elif cont >= 7:\n",
    "          break\n",
    "      else:\n",
    "          continue\n",
    "print(\"contand...\")        \n",
    "\n",
    "          \n",
    "\n"
   ]
  },
  {
   "cell_type": "markdown",
   "metadata": {},
   "source": [
    "Break\n",
    "o comando break faz o comentario: encera imediatamente o loop e vai para o final do programa, sem terminar\n",
    "o loop, mesmo que a condiçao esteja sendo atendida:"
   ]
  },
  {
   "cell_type": "code",
   "execution_count": null,
   "metadata": {},
   "outputs": [],
   "source": [
    "conr = 0\n",
    "while cont < 15:\n",
    "    cont += 1\n",
    "    if cont % 2 == 0:\n",
    "        print(cont)\n",
    "    elif cont >= 7:\n",
    "        break\n",
    "    else:\n",
    "        continue\n",
    "\n",
    "    print('contand')\n",
    "    \n"
   ]
  },
  {
   "cell_type": "markdown",
   "metadata": {},
   "source": [
    "##Pass\n",
    "o comando pass e ultilizado para o programa simplesmente pular uma determinada opçao\n",
    "\n",
    "Agora o mesmo exemplo , so que co ... no lugar do pass:"
   ]
  },
  {
   "cell_type": "markdown",
   "metadata": {},
   "source": [
    "##laço for\n",
    "o laço for e um loops mais usado na programaçao. E um laço de repetiçao como no anterior tambem ,\n",
    "mas com uma diferença:  e semprebexecutado com um numero finito de vezes, evitando que o programa entre  em loop infinito.\n",
    "A desvantagem em relaçao ao while e que o numero de loops dessa vez e ditado pelo proprio programa ao inves do usuario final .\n",
    "Este por sua vez nao possui controle sobre o numero de loops a ser executado no for, ou pelo menos nao diretamente para fins de exemplo,vamos executar um programa parecido com o primeiro programa dessa aula mas desta vez o programa ira exibir numeros de 0 a 4. segue o algoritimo.\n"
   ]
  },
  {
   "cell_type": "code",
   "execution_count": null,
   "metadata": {},
   "outputs": [],
   "source": [
    "nome = (\"sueli\")\n",
    "for n in nome:\n",
    "    print(n)\n",
    "\n",
    "\n",
    "nome = ['sueli','maria', 'jose','joao']  \n",
    "for n in nome:\n",
    "    print(n)\n",
    "\n",
    "    termo = int(input('digite o primeiro termo'))\n",
    "    razao = int(input(\"Digite a razao\"))\n",
    "\n",
    "    pa = termo + (20-1) * razao\n",
    "    for i in range(termo , pa +  razao)\n",
    "    print(i)\n",
    "\n"
   ]
  },
  {
   "cell_type": "code",
   "execution_count": 5,
   "metadata": {},
   "outputs": [
    {
     "name": "stdout",
     "output_type": "stream",
     "text": [
      "                   *\n",
      "                  ***\n",
      "                 *****\n",
      "                *******\n",
      "               *********\n",
      "              ***********\n",
      "             *************\n",
      "            ***************\n",
      "           *****************\n",
      "          *******************\n",
      "         *********************\n",
      "        ***********************\n",
      "       *************************\n",
      "      ***************************\n",
      "     *****************************\n",
      "    *******************************\n",
      "   *********************************\n",
      "  ***********************************\n",
      " *************************************\n",
      "***************************************\n"
     ]
    }
   ],
   "source": [
    "altura = 20\n",
    "espaçamento = 0\n",
    "asterisco = 1\n",
    "simbolo = '*'\n",
    "for i in range(altura):\n",
    "    espacamento = altura - i -1\n",
    "    for j in range(espacamento):\n",
    "        print(' ', end='')\n",
    "\n",
    "    for k in range(asterisco):\n",
    "        print(simbolo,end='')\n",
    "\n",
    "    print()\n",
    "    asterisco +=2\n",
    "\n",
    "                "
   ]
  },
  {
   "cell_type": "code",
   "execution_count": 7,
   "metadata": {},
   "outputs": [
    {
     "ename": "IndexError",
     "evalue": "Cannot choose from an empty sequence",
     "output_type": "error",
     "traceback": [
      "\u001b[1;31m---------------------------------------------------------------------------\u001b[0m",
      "\u001b[1;31mIndexError\u001b[0m                                Traceback (most recent call last)",
      "Cell \u001b[1;32mIn[7], line 20\u001b[0m\n\u001b[0;32m     17\u001b[0m     \u001b[38;5;28;01melse\u001b[39;00m:\n\u001b[0;32m     18\u001b[0m         \u001b[38;5;28;01mbreak\u001b[39;00m      \n\u001b[1;32m---> 20\u001b[0m escolhido \u001b[38;5;241m=\u001b[39m \u001b[43mrandom\u001b[49m\u001b[38;5;241;43m.\u001b[39;49m\u001b[43m \u001b[49m\u001b[43mchoice\u001b[49m\u001b[43m(\u001b[49m\u001b[43mlista_nome\u001b[49m\u001b[43m)\u001b[49m\n\u001b[0;32m     22\u001b[0m \u001b[38;5;28mprint\u001b[39m(\u001b[38;5;124mf\u001b[39m\u001b[38;5;124m\"\u001b[39m\u001b[38;5;124mo sorteado \u001b[39m\u001b[38;5;124m\"\u001b[39m)\n\u001b[0;32m     23\u001b[0m \u001b[38;5;28mprint\u001b[39m(lista_nome)\n",
      "File \u001b[1;32mC:\\Program Files\\WindowsApps\\PythonSoftwareFoundation.Python.3.12_3.12.1264.0_x64__qbz5n2kfra8p0\\Lib\\random.py:347\u001b[0m, in \u001b[0;36mRandom.choice\u001b[1;34m(self, seq)\u001b[0m\n\u001b[0;32m    344\u001b[0m \u001b[38;5;66;03m# As an accommodation for NumPy, we don't use \"if not seq\"\u001b[39;00m\n\u001b[0;32m    345\u001b[0m \u001b[38;5;66;03m# because bool(numpy.array()) raises a ValueError.\u001b[39;00m\n\u001b[0;32m    346\u001b[0m \u001b[38;5;28;01mif\u001b[39;00m \u001b[38;5;129;01mnot\u001b[39;00m \u001b[38;5;28mlen\u001b[39m(seq):\n\u001b[1;32m--> 347\u001b[0m     \u001b[38;5;28;01mraise\u001b[39;00m \u001b[38;5;167;01mIndexError\u001b[39;00m(\u001b[38;5;124m'\u001b[39m\u001b[38;5;124mCannot choose from an empty sequence\u001b[39m\u001b[38;5;124m'\u001b[39m)\n\u001b[0;32m    348\u001b[0m \u001b[38;5;28;01mreturn\u001b[39;00m seq[\u001b[38;5;28mself\u001b[39m\u001b[38;5;241m.\u001b[39m_randbelow(\u001b[38;5;28mlen\u001b[39m(seq))]\n",
      "\u001b[1;31mIndexError\u001b[0m: Cannot choose from an empty sequence"
     ]
    }
   ],
   "source": [
    "nome1 = input(\"Digite um nome:\")\n",
    "nome2 = input(\"Digite um nome:\")\n",
    "nome3 = input(\"Digite um nome:\")\n",
    "nome4 = input(\"Digite um nome:\")\n",
    "nome5 = input(\"digite um nome:\")\n",
    "\n",
    "\n",
    "import random\n",
    "lista_nome = []\n",
    "lista_sorteados = []\n",
    "\n",
    "while True:\n",
    "\n",
    "    nome = input(\"digite os nomes que serao sorteados:\")\n",
    "    if nome != '':\n",
    "       lista_nome.append(nome)\n",
    "    else:\n",
    "        break      \n",
    "\n",
    "escolhido = random. choice(lista_nome)\n",
    "\n",
    "print(f\"o sorteado \")\n",
    "print(lista_nome)\n",
    "      \n",
    "\n",
    "\n",
    "while True:\n",
    "    if lista_nome:\n",
    "       os.system('cls')\n",
    "       escolhido = random.choice(lista_nome)\n",
    "       lista_sorteados.append(escolhido)\n",
    "       print(f'o sorteado e {escolhido}')\n",
    "       opcao = input('Deseja sorteao outro nome?(s/n)').lower()\n",
    "       os.system('cls')\n",
    "\n",
    "       if opcao != 's':\n",
    "          break\n",
    "    else:  \n",
    "        print(\"nao existe nomes  para serem sorteados.\")  \n",
    "escolhido=random.choice(lista_nome) \n",
    "print(f' o soteado foi{escolhido}')\n",
    "print(f'lista de sorteados {lista_sorteados}')\n",
    "\n",
    "          \n",
    "\n",
    "\n",
    "lista = ['Antonio','paulo','jose','joao','beltrano']\n",
    "print(f\"o primeiro nome da lista: {lista[0]}\")\n",
    "print(f\"o segundo nome d lista:{lista[1]}\")\n",
    "print(f\"o terceiro nome da lista:{lista[2]}\")\n",
    "\n",
    "for i in range (5):\n",
    "    print(f'{i+1}º nome: {lista[i]}')\n",
    "print() \n",
    "for i in range(len(lista)):\n",
    "    print(f'{i + 1}º nome: {lista[i]}')  \n",
    "\n",
    "\n",
    "\n",
    "\n",
    "\n",
    "\n",
    "  \n",
    "\n",
    "\n",
    "\n",
    "\n",
    "\n",
    "\n"
   ]
  },
  {
   "cell_type": "code",
   "execution_count": 9,
   "metadata": {},
   "outputs": [
    {
     "ename": "SyntaxError",
     "evalue": "unterminated string literal (detected at line 3) (1814869555.py, line 3)",
     "output_type": "error",
     "traceback": [
      "\u001b[1;36m  Cell \u001b[1;32mIn[9], line 3\u001b[1;36m\u001b[0m\n\u001b[1;33m    num = int(input'(Digitar o seu numero))\u001b[0m\n\u001b[1;37m                   ^\u001b[0m\n\u001b[1;31mSyntaxError\u001b[0m\u001b[1;31m:\u001b[0m unterminated string literal (detected at line 3)\n"
     ]
    }
   ],
   "source": [
    "print(60*'=')\n",
    "x = int(input(\"Digitar um numero inteiro:\"))\n",
    "num = int(input('Digitar o seu numero)')\n",
    "print(f'{x} x {num} = {x * num}')\n"
   ]
  },
  {
   "cell_type": "code",
   "execution_count": null,
   "metadata": {},
   "outputs": [],
   "source": [
    "import random\n",
    "numero_secreto = random.randit(1,20)\n",
    "\n",
    "# FIXME: Declarando variaveis\n",
    "\n",
    "tentativas = 0\n",
    "max_tentativas = 5\n",
    "acertou = False\n",
    "print(\"Bem-vindo ao GAME Python Advinha!!!\")\n",
    "print(f\"voce tem {max_tentativas} tentativas para advinhar o numero secreto entre 1 e 20\")\n",
    "\n",
    "# loop (jogo)\n",
    "while tentativas < max_tentativas:\n",
    "    palpite = int(input(\"Digite um numeero inteiro\"))\n",
    "    tentativas += 1\n",
    "\n",
    "    if palpite == numero_secreto:\n",
    "        acertou = True\n",
    "        \n",
    "        break\n",
    "    elif palpite < numero_secreto:\n",
    "        print(\"tente um numero maior\")\n",
    "    else:\n",
    "        print(\"Tente um numero menor\")\n",
    "if  acertou:\n",
    "    print(f\"Parabens! voce acertou o numero secreto {numero_secreto} em {tentativas}\") tentat\n",
    "else:\n",
    "    print(f\"Que pena! voce conseguiu advinhar o numero secreto {numero_secreto}\")   \n",
    "\n"
   ]
  },
  {
   "cell_type": "code",
   "execution_count": null,
   "metadata": {},
   "outputs": [],
   "source": [
    "cont = 0\n",
    "while cont < 20:\n",
    "    cont += 1\n",
    "    if cont %2 == 0:\n",
    "        print(cont)\n",
    "    elif cont < 5:\n",
    "        pass\n",
    "    elif cont >= 15:\n",
    "        break\n",
    "    else:\n",
    "        continue\n",
    "    print('contando...')    \n",
    "    \n"
   ]
  },
  {
   "cell_type": "code",
   "execution_count": 3,
   "metadata": {},
   "outputs": [
    {
     "name": "stdout",
     "output_type": "stream",
     "text": [
      "contagem regressiva:10...\n",
      "contagem regressiva:9...\n",
      "contagem regressiva:8...\n",
      "contagem regressiva:7...\n",
      "contagem regressiva:6...\n",
      "contagem regressiva:5...\n",
      "contagem regressiva:4...\n",
      "contagem regressiva:3...\n",
      "contagem regressiva:2...\n",
      "contagem regressiva:1...\n",
      "contagem regressiva:0...\n",
      "booooooo!!!!!!\n"
     ]
    }
   ],
   "source": [
    "import os\n",
    "import time\n",
    "\n",
    "cont = int(input(\"Digite um numero inteiro:\"))\n",
    "\n",
    "while cont >=0:\n",
    "    os.system(\"cls\")#limpar o terminal\n",
    "    print(f'contagem regressiva:{cont}...')\n",
    "    time.sleep(1) # atrasa o proximo comando\n",
    "    cont -= 1\n",
    "    os.system('cls')\n",
    "print('booooooo!!!!!!')\n",
    "\n",
    "\n"
   ]
  },
  {
   "cell_type": "code",
   "execution_count": null,
   "metadata": {},
   "outputs": [],
   "source": [
    "#loop\n",
    "while true:\n",
    "    #entrada de nome\n",
    "    nome = input('informe o seu nome ou deixe em branco para sair:')\n",
    "\n",
    "    # verificar se o valor foi informado ou nao\n",
    "    if nome != '':\n",
    "        # entrada da idade\n",
    "        idade = int(input('informe sua idade'))\n",
    "\n",
    "        # verifique sua idade\n",
    "        if idade >= 18:\n",
    "            print(f'{nome}e maior de idade.')\n",
    "        else:\n",
    "            print(f'{nome}e menor de idade.')    \n",
    "\n",
    "        continue #retorna ao inicio do loop\n",
    "    else:\n",
    "        break # encerra o loop    \n"
   ]
  },
  {
   "cell_type": "markdown",
   "metadata": {},
   "source": []
  },
  {
   "cell_type": "code",
   "execution_count": null,
   "metadata": {},
   "outputs": [],
   "source": [
    "while true:\n",
    "    opçao = input('deseja calcular um imc?(s/n).lower')\n",
    "\n",
    "if opçao == 's':\n",
    "    print(20*'-','calculadora de IMC',20*'-')\n",
    "    peso = input('digite o seu peso:').replace(',','.')\n",
    "    altura= input ('digite sua altura:').replace(',','.')\n",
    "    altura = float(altura)\n",
    "    calculo = peso /(altura*altura)\n",
    "\n",
    "    if   calculo <=17 : \n",
    "        print('situaçao: Esta com amorexia')\n",
    "    elif calculo >=17 and calculo <= 18.5:\n",
    "        print('situaçao: Esta a baixo do peso')\n",
    "    elif calculo > 48.5 and calculo <= 25:\n",
    "        print('situaçao: Esta com o peso ideal')  \n",
    "    elif calculo > 25 and calculo <= 30:    \n",
    "        print('situaçao: Esta  acima do peso')\n",
    "    elif calculo > 30 and calculo <= 35:\n",
    "        print('situaçao: Esta com grau de obsidade I')\n",
    "    elif calculo > 35 and calculo <= 40:\n",
    "        print('Esta com grau de obsidade II')   \n",
    "         \n",
    "\n",
    "\n",
    "\n",
    "\n"
   ]
  },
  {
   "cell_type": "markdown",
   "metadata": {},
   "source": [
    "2. crie um programa que liste 5 salas de cinema, e mostre os filmes de cada uma das salas \n",
    "e suas classificaçoes indicativas. O usuario devera informar sua idade e a sala com o filme\n",
    "desejado. Caso o usuario tenha a idade minima para ver o filme, o programa ira imprimir o ingresso para o filme desejado. Caso o usuario nao tenha a idade minima, o programa devera informar que ele nao tem idade para ver o filme e devera retornar a lista de filmes\n",
    "para que o usuario escolha outro filme."
   ]
  },
  {
   "cell_type": "code",
   "execution_count": 3,
   "metadata": {},
   "outputs": [
    {
     "name": "stdout",
     "output_type": "stream",
     "text": [
      "sala1 nome do filme1 classificaçao + 18 \n",
      "sala2 nome do filme2 classificaçao + 15 \n",
      "sala3 nome do filme3 classificaçao - 17 \n",
      "sala4 nome do filme4 classificaçao - 20 \n",
      "sala5 nome do filme5 classificaçao + 18 \n",
      "selecione o filme\n",
      "ingresso sala 1\n"
     ]
    }
   ],
   "source": [
    "while True:\n",
    "    idade = int(input(\"digite a idade\"))\n",
    "    print(\"sala1 nome do filme1 classificaçao + 18 \")\n",
    "    print(\"sala2 nome do filme2 classificaçao + 15 \")\n",
    "    print(\"sala3 nome do filme3 classificaçao - 17 \")\n",
    "    print(\"sala4 nome do filme4 classificaçao - 20 \")\n",
    "    print(\"sala5 nome do filme5 classificaçao + 18 \")\n",
    "\n",
    "    print(\"selecione o filme\")\n",
    "    sala = input(\"digite o numero da sala\")\n",
    "    sala = int(sala)\n",
    "    if idade >= 18:\n",
    "        if sala == 1:\n",
    "            print(\"ingresso sala 1\")\n",
    "        elif sala ==2:\n",
    "            print(\"ingresso sala 2\")\n",
    "        elif sala ==3:  \n",
    "            print(\"ingresso sala 3\")\n",
    "        elif sala ==4:\n",
    "            print(\"ingresso sala 4\")\n",
    "        elif sala ==5:\n",
    "            print(\"ingresso sala 5\")\n",
    "    else:\n",
    "        print(\"mostrar qual sala assistir ao filme\")\n",
    "    break         "
   ]
  }
 ],
 "metadata": {
  "kernelspec": {
   "display_name": "Python 3",
   "language": "python",
   "name": "python3"
  },
  "language_info": {
   "codemirror_mode": {
    "name": "ipython",
    "version": 3
   },
   "file_extension": ".py",
   "mimetype": "text/x-python",
   "name": "python",
   "nbconvert_exporter": "python",
   "pygments_lexer": "ipython3",
   "version": "3.12.4"
  }
 },
 "nbformat": 4,
 "nbformat_minor": 2
}

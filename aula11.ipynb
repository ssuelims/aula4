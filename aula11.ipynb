{
 "cells": [
  {
   "cell_type": "markdown",
   "metadata": {},
   "source": []
  },
  {
   "cell_type": "code",
   "execution_count": null,
   "metadata": {},
   "outputs": [],
   "source": [
    "   ## jogo de logica com python  ##\n",
    "\n",
    "lista = []\n",
    "\n",
    "while True:\n",
    "    if lista:\n",
    "        contador = 0\n",
    "        print(\"enquanto houver algo dentro da lista voce vera essa mensagem\\n\")\n",
    "        time.sleep(5)\n",
    "        lista.append(novo_item_lista)\n"
   ]
  },
  {
   "cell_type": "code",
   "execution_count": null,
   "metadata": {},
   "outputs": [],
   "source": [
    "lista_cpf = ['111.222 . 333-24' , '222 . 333 . 444 - 55' , '333. 444.555- 66' , '444.555.666-77']\n",
    "\n",
    "novo_cpf = input(\" Digite um novo cpf:\")\n",
    "\n",
    "if novo_cpf in lista_cpf:\n",
    "    print(\"CPF ja cadastrado\")\n",
    "\n",
    "else:\n",
    "    lista_cpf.append(novo_cpf)\n",
    "    print(\"cpf cadastrado com sucesso!\")\n",
    "\n",
    "\n"
   ]
  },
  {
   "cell_type": "code",
   "execution_count": null,
   "metadata": {},
   "outputs": [],
   "source": [
    "lista_cpf = ['111.222 . 333-24' , '222 . 333 . 444 - 55' , '333. 444.555- 66' , '444.555.666-77']\n",
    "\n",
    "novo_cpf = input('sueli', 'silva')\n",
    "\n",
    "\n",
    "\n",
    "print('1. Cadastrar com novo usuario')\n",
    "print('2 Acessar o sistema')\n",
    "print('3.sair')\n",
    "\n",
    "opcao = input('Digite a opcao')\n",
    "\n",
    "if opcao == '1':\n",
    "    novo_nome = input('Digite um novo nome que deseja cadastrar:')\n",
    "    novo_cpf = input('Digite um novo cpf:')\n",
    "\n",
    "    if novo_cpf in lista_cpf:\n",
    "        print('cpf ja esta cadastrado')\n",
    "    else:\n",
    "        lista_cpf.append(novo_cpf)\n",
    "        lista_nome.append(novo_nome)\n",
    "        print(\"cpf cadastrado com sucesso\")\n",
    "\n",
    "elif opcao == '2':   \n",
    "\n",
    "\n",
    "\n",
    "\n",
    "\n",
    "elif opcao == '3' :\n",
    "     \n",
    "\n",
    "\n",
    "\n",
    "\n",
    "\n"
   ]
  }
 ],
 "metadata": {
  "language_info": {
   "name": "python"
  }
 },
 "nbformat": 4,
 "nbformat_minor": 2
}

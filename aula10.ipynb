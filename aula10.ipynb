{
 "cells": [
  {
   "cell_type": "markdown",
   "metadata": {},
   "source": [
    "## Aula 10  ##\n",
    "\n",
    "  .Declarando uma lista\n",
    "  .Manipulaçao de lista\n",
    "\n",
    "     .Adicionar um novo elemento na lista\n",
    "     .Adicionar elemento em uma posicao na lista\n",
    "     .Removendo um elemento da lista\n",
    "     .mostrando segundo,terceiro e quarto elemento da lista\n",
    "     .Mostrando o ultimo elemento da lista\n",
    "     .Ordenando lista\n",
    "     .Pesquisando dados em uma lista (in,index,count)\n",
    "     .Copiando uma lista\n",
    "     \n",
    "\n",
    "\n"
   ]
  },
  {
   "cell_type": "code",
   "execution_count": null,
   "metadata": {},
   "outputs": [],
   "source": [
    "nomes = ['sueli','silvia','mateus','paulo','tiao','maria','deia']\n",
    "\n",
    "#Retornando elemento da lista atraves do indice\n",
    "print(f\"o ´primeiro nome e {nomes[0]}\")\n",
    "\n",
    "#Retornando o ultimo elemento da lista\n",
    "print(nomes[-1])\n",
    "\n"
   ]
  },
  {
   "cell_type": "code",
   "execution_count": null,
   "metadata": {},
   "outputs": [],
   "source": [
    "nomes = [\"sueli,silvia,mateus,paulo,tiao,maria,Deia\"]\n",
    "\n",
    "#Removendo item da lista com Removendo\n",
    "nomes.remove('mateus')\n",
    "print(nomes)\n"
   ]
  },
  {
   "cell_type": "code",
   "execution_count": null,
   "metadata": {},
   "outputs": [],
   "source": [
    "nomes = [\"sueli,silvia,mateus,paulo,tiao,maria,Deia\"]\n",
    "\n",
    "#Removendo item da lista com pop\n",
    "nomes.pop(3)\n",
    "print(nomes)\n"
   ]
  },
  {
   "cell_type": "code",
   "execution_count": null,
   "metadata": {},
   "outputs": [],
   "source": [
    "nomes = [\"sueli,silvia,mateus,paulo,tiao,maria,Deia\"]\n",
    "\n",
    "#Removendo item usando Del\n",
    "del nomes[2:4]\n",
    "print(nomes)"
   ]
  },
  {
   "cell_type": "code",
   "execution_count": null,
   "metadata": {},
   "outputs": [],
   "source": [
    "nomes = [\"sueli,silvia,mateus,paulo,tiao,maria,Deia\"]\n",
    "\n",
    "#Removendo item usando del#\n",
    "\n",
    "del nomes[4:]\n",
    "print(nomes)\n"
   ]
  },
  {
   "cell_type": "code",
   "execution_count": null,
   "metadata": {},
   "outputs": [],
   "source": [
    "nomes = [\"sueli,silvia,mateus,paulo,tiao,maria,Deia\"]\n",
    "\n",
    "#Adicionar um novo item na lista\n",
    "\n",
    "nomes.append(\"Deia\")\n",
    "print(nomes)"
   ]
  },
  {
   "cell_type": "code",
   "execution_count": null,
   "metadata": {},
   "outputs": [],
   "source": [
    "nomes = [\"sueli,silvia,mateus,paulo,tiao,maria,Deia\"]\n",
    "\n",
    "#Adicionar elemento em uma posicao especifica\n",
    "\n",
    "nomes.insert(\"2.paulo\")\n",
    "print(nomes)"
   ]
  },
  {
   "cell_type": "code",
   "execution_count": null,
   "metadata": {},
   "outputs": [],
   "source": [
    "nomes = [\"sueli,silvia,mateus,paulo,tiao,maria,Deia\"]\n",
    "\n",
    "for i in range(len(nomes)):\n",
    "    print(f\"{i+1}º nome da lista:{nomes[i]}\")\n",
    "\n",
    "#Recebendo novo nome para adicionar na lista\n",
    "novo_nome = input(\"Digite um novo nome a ser adicionado na lista\")\n",
    "\n",
    "#Recebendo uma posicao para adicionar na lista\n",
    "posicao = input(\"Informe a poisicao desejada para adicionar o novo nome:\")\n",
    "\n",
    "#Corrigindo a posicao dos indices\n",
    "posicao += 1\n",
    "\n",
    "if posicao>= 0 and posicao <= len(nomes):\n",
    "   nomes.insert(posicao,novo_nome)\n",
    "else:\n",
    "    print ('posicao invalida')\n",
    "\n",
    "    print()\n",
    "    print(30*'*', 'Lista atualizada' , 30*'=')\n",
    "    for i in range(len(nomes)):\n",
    "        print(f'{i+1}')\n",
    "        break          \n",
    "\n",
    "    "
   ]
  },
  {
   "cell_type": "code",
   "execution_count": null,
   "metadata": {},
   "outputs": [],
   "source": [
    "##Ordenando as listas ##\n",
    "nome = [1,2,3,4,5,6,7,8,9,10]\n",
    "\n",
    "## Lista ordenada crescente\n",
    "print(f'Lista desordenada: {nome}')\n",
    "nome.sort()\n",
    "\n",
    "print(f'Lista ordenada: {nome}')\n",
    "\n",
    "##Lista ordenada decrescente\n",
    "\n",
    "\n",
    "\n"
   ]
  }
 ],
 "metadata": {
  "kernelspec": {
   "display_name": "Python 3",
   "language": "python",
   "name": "python3"
  },
  "language_info": {
   "name": "python",
   "version": "3.12.4"
  }
 },
 "nbformat": 4,
 "nbformat_minor": 2
}

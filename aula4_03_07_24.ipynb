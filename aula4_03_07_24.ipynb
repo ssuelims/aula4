{
 "cells": [
  {
   "cell_type": "markdown",
   "metadata": {},
   "source": [
    "## Revisão\n",
    "- Como somar um numéro?\n",
    "    - somente somo números inteiros e não string\n",
    "- Qual passo ideal para fazer as operações matemáticas?\n",
    "    - Converter o input para um numero inteiro\n",
    "- Qual tipo de dado retorna de uma divisão?\n",
    "    - Tipo float"
   ]
  },
  {
   "cell_type": "code",
   "execution_count": 5,
   "metadata": {},
   "outputs": [
    {
     "name": "stdout",
     "output_type": "stream",
     "text": [
      "Divisao inteira: 0\n",
      "Divisao normal: 0.5\n",
      "Resto: 10\n",
      "Exponenciação: 100000000000000000000\n"
     ]
    }
   ],
   "source": [
    "n1 = input(\"Digite o primeiro numero: \")\n",
    "n2 = input(\"Digite o segundo numero: \")\n",
    "\n",
    "# Convertendo as entradas para inteiro\n",
    "n1 = int(n1)\n",
    "n2 = int(n2)\n",
    "\n",
    "divisao_inteira = n1 // n2\n",
    "divisao = n1 / n2\n",
    "resto = n1 % n2\n",
    "expo = n1 ** n2\n",
    "\n",
    "print(f'Divisao inteira: {divisao_inteira}')\n",
    "print(f'Divisao normal: {divisao}')\n",
    "print(f'Resto: {resto}')\n",
    "print(f'Exponenciação: {expo}')"
   ]
  },
  {
   "cell_type": "code",
   "execution_count": 13,
   "metadata": {},
   "outputs": [
    {
     "name": "stdout",
     "output_type": "stream",
     "text": [
      "Resultado de atribuição de subtração: 0\n"
     ]
    }
   ],
   "source": [
    "# Atribuição subtração\n",
    "valor = 10\n",
    "valor -=10\n",
    "print(f'Resultado de atribuição de subtração: {valor}')"
   ]
  },
  {
   "cell_type": "code",
   "execution_count": 14,
   "metadata": {},
   "outputs": [
    {
     "name": "stdout",
     "output_type": "stream",
     "text": [
      "Resultado de atribuição de soma: 10\n"
     ]
    }
   ],
   "source": [
    "# Atribuição de soma\n",
    "valor += 10\n",
    "print(f'Resultado de atribuição de soma: {valor}')"
   ]
  },
  {
   "cell_type": "code",
   "execution_count": 15,
   "metadata": {},
   "outputs": [
    {
     "name": "stdout",
     "output_type": "stream",
     "text": [
      "Resultado de atribuição de multiplicação: 100\n"
     ]
    }
   ],
   "source": [
    "# Atribuição de multiplicação\n",
    "valor *= 10\n",
    "print(f'Resultado de atribuição de multiplicação: {valor}')"
   ]
  },
  {
   "cell_type": "code",
   "execution_count": 16,
   "metadata": {},
   "outputs": [
    {
     "name": "stdout",
     "output_type": "stream",
     "text": [
      "Resultado de atribuição de divisão: 10.0\n"
     ]
    }
   ],
   "source": [
    "# Atribuição de divisão\n",
    "valor /= 10\n",
    "print(f'Resultado de atribuição de divisão: {valor}')"
   ]
  },
  {
   "cell_type": "code",
   "execution_count": 17,
   "metadata": {},
   "outputs": [
    {
     "name": "stdout",
     "output_type": "stream",
     "text": [
      "Resultado de atribuição de divisão inteira: 1.0\n"
     ]
    }
   ],
   "source": [
    "# Atribuição de divisão inteira\n",
    "valor //= 10\n",
    "print(f'Resultado de atribuição de divisão inteira: {valor}')"
   ]
  },
  {
   "cell_type": "code",
   "execution_count": 18,
   "metadata": {},
   "outputs": [
    {
     "name": "stdout",
     "output_type": "stream",
     "text": [
      "Resultado da atribuição de modulo: 1.0\n"
     ]
    }
   ],
   "source": [
    "# Atribuição de modulo\n",
    "valor %= 10\n",
    "print(f'Resultado da atribuição de modulo: {valor}')"
   ]
  },
  {
   "cell_type": "markdown",
   "metadata": {},
   "source": [
    "## Atividade\n",
    "- Crie um programa para o Boletim de notas do aluno. Guarde o nome do aluno, as notas e caulcule a media final do aluno.\n",
    "- Disciplinas:\n",
    "    - Matemática\n",
    "    - Português\n",
    "    - Geografia\n",
    "    - Historia\n",
    "    - Física\n",
    "\n",
    "- Ao obter as notas e a media das notas, imprima o boletim do aluno informando as notas das materias e com quanto ele ficou de madia"
   ]
  },
  {
   "cell_type": "code",
   "execution_count": 23,
   "metadata": {},
   "outputs": [
    {
     "name": "stdout",
     "output_type": "stream",
     "text": [
      "------------------------------ BOLETIM ESCOLAR ------------------------------\n",
      "Nome do Aluno: Karython Gomes\n",
      "Matemática: 10.0\n",
      "Português: 8.0\n",
      "Geografia: 7.4\n",
      "História: 5.6\n",
      "Física: 9.5\n",
      "A média geral do aluno foi: 8.10\n",
      "------------------------------------------------------------\n"
     ]
    }
   ],
   "source": [
    "# Resolução do Desafio\n",
    "\n",
    "print(30*\"-\", \"BOLETIM ESCOLAR\", 30*\"-\")\n",
    "nome = input(\"Digite o nome do aluno: \")\n",
    "\n",
    "not1 = input('Digite a nota de Matemática: ')\n",
    "not2 = input('Digite a nota de Português: ')\n",
    "not3 = input('Digite a nota de Geografia: ')\n",
    "not4 = input('Digite a nota de História: ')\n",
    "not5 = input('Digite a nota de Física: ')\n",
    "\n",
    "not1 = float(not1)\n",
    "not2 = float(not2)\n",
    "not3 = float(not3)\n",
    "not4 = float(not4)\n",
    "not5 = float(not5)\n",
    "\n",
    "media = (not1 + not2 + not3 + not4 + not5)/5\n",
    "\n",
    "print(f'Nome do Aluno: {nome}')\n",
    "print(f'Matemática: {not1}')\n",
    "print(f'Português: {not2}')\n",
    "print(f'Geografia: {not3}')\n",
    "print(f'História: {not4}')\n",
    "print(f'Física: {not5}')\n",
    "print(f'A média geral do aluno foi: {media:.2f}')\n",
    "print(60*\"-\")\n",
    "\n"
   ]
  }
 ],
 "metadata": {
  "kernelspec": {
   "display_name": "venv",
   "language": "python",
   "name": "python3"
  },
  "language_info": {
   "codemirror_mode": {
    "name": "ipython",
    "version": 3
   },
   "file_extension": ".py",
   "mimetype": "text/x-python",
   "name": "python",
   "nbconvert_exporter": "python",
   "pygments_lexer": "ipython3",
   "version": "3.12.3"
  }
 },
 "nbformat": 4,
 "nbformat_minor": 2
}

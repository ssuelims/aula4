{
 "cells": [
  {
   "cell_type": "markdown",
   "metadata": {},
   "source": [
    "## Revisão aula 04\n",
    "- Qual primeiro comado para iniciar novo repositorio\n",
    "    - git init\n",
    "- Cria o notebook na maquina\n",
    "- Configurando credicias git config --global user.email (user.name)\n",
    "- Verificar o status com o comando git status\n",
    "- Adicionar os arquivos ao commit com git add .\n",
    "- Em seguida fazer o git commit -m \"mensagem\"\n",
    "- Verificar se o repositorio remoto esta conectado com git remote -v\n",
    "- Fazer o push para empurrar os arquivos para nuvem github"
   ]
  },
  {
   "cell_type": "code",
   "execution_count": 3,
   "metadata": {},
   "outputs": [
    {
     "name": "stdout",
     "output_type": "stream",
     "text": [
      "if falso\n",
      "finalizou o codigo\n"
     ]
    }
   ],
   "source": [
    "programador = False\n",
    "\n",
    "if programador:\n",
    "    print('if é verdadeiro')\n",
    "    \n",
    "\n",
    "else:\n",
    "    print(\"if falso\")\n",
    "\n",
    "print('finalizou o codigo')\n",
    "\n",
    "\n"
   ]
  },
  {
   "cell_type": "code",
   "execution_count": 9,
   "metadata": {},
   "outputs": [
    {
     "name": "stdout",
     "output_type": "stream",
     "text": [
      "Pode brincar na montanha russa!\n"
     ]
    }
   ],
   "source": [
    "idade = 15\n",
    "altura = 1.75\n",
    "# and\n",
    "# or \n",
    "\n",
    "if idade >= 18 or altura > 1.60:\n",
    "    print('Pode brincar na montanha russa!')\n",
    "else:\n",
    "    print('Não pode brincar')\n"
   ]
  },
  {
   "cell_type": "markdown",
   "metadata": {},
   "source": [
    "## Desafio \n",
    "- Usando o conceito de operadores e if else, crie um programa que verifica se o numero é par ou impar."
   ]
  },
  {
   "cell_type": "code",
   "execution_count": 11,
   "metadata": {},
   "outputs": [
    {
     "name": "stdout",
     "output_type": "stream",
     "text": [
      "---------- VERIFICA SE PAR OU IMPAR ----------\n",
      "O numero 5 é impar!\n"
     ]
    }
   ],
   "source": [
    "print(10*\"-\",\"VERIFICA SE PAR OU IMPAR\",10*\"-\")\n",
    "num = input(\"Digite um número: \")\n",
    "num = int(num)\n",
    "\n",
    "# verifica se o resto da divisao do numero por 2 é igual a 0\n",
    "if num % 2 == 0:\n",
    "    print(f\"O numero {num} é par!\")\n",
    "else:\n",
    "    print(f\"O numero {num} é impar!\")"
   ]
  },
  {
   "cell_type": "markdown",
   "metadata": {},
   "source": [
    "## Desafio 2\n",
    "- Um elevador de carga possui capacidade para 200kg.\n",
    "    - Crie um programa que receba do usuario o peso da carga, ou seu peso e verifica se a carga esta autorizada a usar o elevador ou não."
   ]
  },
  {
   "cell_type": "code",
   "execution_count": 14,
   "metadata": {},
   "outputs": [
    {
     "name": "stdout",
     "output_type": "stream",
     "text": [
      "Não pode usar o elevador\n"
     ]
    }
   ],
   "source": [
    "# Correção\n",
    "\n",
    "usuario = input(\"Digite seu peso: \")\n",
    "carga = input(\"Digite o peso da carga: \")\n",
    "\n",
    "usuario = int(usuario)\n",
    "carga = int(carga)\n",
    "\n",
    "peso_total = usuario + carga\n",
    "capacidade = 200\n",
    "\n",
    "if peso_total <= capacidade:\n",
    "    print(\"Pode usar o elevador!\")\n",
    "else:\n",
    "    print(\"Não pode usar o elevador\")"
   ]
  },
  {
   "cell_type": "code",
   "execution_count": 17,
   "metadata": {},
   "outputs": [
    {
     "name": "stdout",
     "output_type": "stream",
     "text": [
      "O Beltrano foi aprovado!\n"
     ]
    }
   ],
   "source": [
    "nome = 'Beltrano'\n",
    "nota = 7\n",
    "\n",
    "if nota >= 7:\n",
    "    print(f\"O {nome} foi aprovado!\")\n",
    "elif nota >= 5:\n",
    "    print(f\"o {nome} esta de recuperação!\")\n",
    "else:\n",
    "    print(f\"O {nome} está reprovado\")\n"
   ]
  },
  {
   "cell_type": "markdown",
   "metadata": {},
   "source": [
    "## Desafio 3\n",
    "- Crie um sistema para coletar os dados do aluno, (nome, idade, cpf), em seguida solicite as notas dos 4 bimestres da diciplina de Python que o aluno teve para verificar a MEDIA.\n",
    "    - Media para aprovação >= 7\n",
    "    - Media para recuperação >= 5\n",
    "    - Media para reprovação = <5\n",
    "- Para retirar o boletim de notas, o aluno precisa ser maior de idade(18) e caso não seja, somente os pais podem retirar o boletim.\n",
    "    - Imprima as informações do aluno\n",
    "    - Imprima as notas do aluno em cada bimestre\n",
    "    - Imprima a situação do aluno (aprovado, reprovado, recuperação)\n",
    "    - Imprima se o boletim sera retirado pelos pais ou pelo proprio aluno\n"
   ]
  },
  {
   "cell_type": "code",
   "execution_count": 25,
   "metadata": {},
   "outputs": [
    {
     "name": "stdout",
     "output_type": "stream",
     "text": [
      "------------------------------ Boletim escolar! ------------------------------\n",
      "Aluno: KARYTHON GOMES\n",
      "Nota 1 : 10.0\n",
      "Nota 2 : 5.0\n",
      "Nota 3 : 6.0\n",
      "Nota 4 : 3.0\n",
      "Media das notas : 6.0\n",
      "Eita, você está de recuperação! :( \n"
     ]
    }
   ],
   "source": [
    "# Correção\n",
    "\n",
    "nome = input(\"Digite o nome do aluno: \").upper()\n",
    "idade = input(\"Digite a idade do aluno: \")\n",
    "idade = int(idade)\n",
    "\n",
    "nota1 = input(\"Digite a nota do 1° Bimestre: \")\n",
    "nota2 = input(\"Digite a nota do 2° Bimestre: \")\n",
    "nota3 = input(\"Digite a nota do 3° Bimestre: \")\n",
    "nota4 = input(\"Digite a nota do 4° Bimestre: \")\n",
    "\n",
    "nota1 = float(nota1)\n",
    "nota2 = float(nota2)\n",
    "nota3 = float(nota3)\n",
    "nota4 = float(nota4)\n",
    "\n",
    "media = (nota1 + nota2 + nota3 + nota4)/4\n",
    "\n",
    "if idade >= 18:\n",
    "    print(30*\"-\",\"Boletim escolar!\",30*\"-\")\n",
    "    print(f\"Aluno: {nome}\")\n",
    "    print(f\"Nota 1 : {nota1}\")\n",
    "    print(f\"Nota 2 : {nota2}\")\n",
    "    print(f\"Nota 3 : {nota3}\")\n",
    "    print(f\"Nota 4 : {nota4}\")\n",
    "    print(f\"Media das notas : {media}\")\n",
    "    if media >= 7:\n",
    "        print(\"Parabéns, você está aprovado!\")\n",
    "    elif media >= 5:\n",
    "        print(\"Eita, você está de recuperação! :( \")\n",
    "    else:\n",
    "        print(\"Que pena! Você foi reprovado!\")\n",
    "else:\n",
    "    print(\"As notas so serão entregues a um responsável!\")"
   ]
  }
 ],
 "metadata": {
  "kernelspec": {
   "display_name": "venv",
   "language": "python",
   "name": "python3"
  },
  "language_info": {
   "codemirror_mode": {
    "name": "ipython",
    "version": 3
   },
   "file_extension": ".py",
   "mimetype": "text/x-python",
   "name": "python",
   "nbconvert_exporter": "python",
   "pygments_lexer": "ipython3",
   "version": "3.12.3"
  }
 },
 "nbformat": 4,
 "nbformat_minor": 2
}

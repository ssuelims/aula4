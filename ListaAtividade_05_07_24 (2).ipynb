{
 "cells": [
  {
   "cell_type": "markdown",
   "metadata": {},
   "source": [
    "## Operador ternário\n",
    "- Usar operador ternário quando as alternativas forem pequenas, e quando tiver apenas 2 ou no máximo 3 alternativas.\n",
    "- No exemplo a variável precisa ser inteira"
   ]
  },
  {
   "cell_type": "code",
   "execution_count": null,
   "metadata": {},
   "outputs": [],
   "source": []
  },
  {
   "cell_type": "code",
   "execution_count": 10,
   "metadata": {},
   "outputs": [
    {
     "name": "stdout",
     "output_type": "stream",
     "text": [
      "karython é maior de idade.\n"
     ]
    }
   ],
   "source": [
    "nome = 'karython'\n",
    "idade = 18\n",
    "\n",
    "print(nome, 'é maior de idade.' if idade >= 18 else 'é menor de idade')"
   ]
  },
  {
   "cell_type": "markdown",
   "metadata": {},
   "source": [
    "## Replace\n",
    "- substituir"
   ]
  },
  {
   "cell_type": "code",
   "execution_count": 11,
   "metadata": {},
   "outputs": [
    {
     "name": "stdout",
     "output_type": "stream",
     "text": [
      "<class 'str'>\n",
      "<class 'float'>\n"
     ]
    }
   ],
   "source": [
    "peso = input(\"Digite seu peso: \").replace(',','.')\n",
    "print(type(peso))\n",
    "peso = float(peso)\n",
    "print(type(peso))\n"
   ]
  },
  {
   "cell_type": "markdown",
   "metadata": {},
   "source": [
    "## Desafio 01\n",
    "- Crie um programa para fazer a verificação de um cliente para saber se ele pode usar o brinquedo ou não.\n",
    "    - Para brincar ele precisa:\n",
    "        - ter mais que 12 anos\n",
    "        - ter altura minima de 1,20 mts"
   ]
  },
  {
   "cell_type": "code",
   "execution_count": 12,
   "metadata": {},
   "outputs": [
    {
     "name": "stdout",
     "output_type": "stream",
     "text": [
      " e menor de idade\n"
     ]
    }
   ],
   "source": [
    "# TODO: Resposta desafio 01\n",
    "\n",
    "\n",
    "idade =input(\"idade\")\n",
    "altura =input(\"altura\").replace(',','.')\n",
    "\n",
    "# conversao de tipo de dados\n",
    "altura = float(altura)\n",
    "idade = int(idade )\n",
    "print(\"cliente,e maior de idade.\" if idade>= 12 and altura>= 1.20 else \" e menor de idade\")\n",
    "\n",
    "\n",
    "\n",
    "\n",
    "\n",
    "\n"
   ]
  },
  {
   "cell_type": "markdown",
   "metadata": {},
   "source": [
    "## Desafio 02\n",
    "- Crie um programa que verifica se o aluno poderar ir a praia.\n",
    "    - Para ir a praia ele precisa:\n",
    "        - Verifica se acordei de bom humor\n",
    "        - Verifica se o pai ja chegou em casa para leva-lo"
   ]
  },
  {
   "cell_type": "code",
   "execution_count": 16,
   "metadata": {},
   "outputs": [
    {
     "name": "stdout",
     "output_type": "stream",
     "text": [
      "nao pode ir a praia\n"
     ]
    }
   ],
   "source": [
    "# TODO: Resposta desafio 02\n",
    "\n",
    "humor = str(input(\"voce acordou de bom humor\")).upper()\n",
    "\n",
    "pai =str(input(\"o seu pai esta em casa\")).upper()\n",
    "\n",
    "if humor == \"sim\" and pai == \"sim\":\n",
    "    print(\"pode ir a praia\")   \n",
    "else :\n",
    "    print(\"nao pode ir a praia\")    \n",
    "    \n",
    "\n",
    "\n",
    "         "
   ]
  },
  {
   "cell_type": "markdown",
   "metadata": {},
   "source": [
    "## Desafio 03\n",
    "- Crie um programa que calcule o indice de massa corporal de um usuário\n",
    "    - pegue os valores de altura e peso\n",
    "        - use a conversão de valores\n",
    "        - use replace\n",
    "        - imprima se ele esta acima do peso ou nao"
   ]
  },
  {
   "cell_type": "code",
   "execution_count": 17,
   "metadata": {},
   "outputs": [
    {
     "name": "stdout",
     "output_type": "stream",
     "text": [
      "nao est acima do peso\n"
     ]
    }
   ],
   "source": [
    "# TODO: Resposta desafio 03\n",
    "altura =input(\"coloque a altura\").replace(\",\", '.')\n",
    "\n",
    "peso = input(\"coloque o peso\").replace(\",\", '.')\n",
    "Emc = float(peso) / float(altura)**2\n",
    "if Emc >= 25.0:\n",
    "    print(\"esta acima do peso\") \n",
    "else:\n",
    "    print(\"nao est acima do peso\")   \n",
    "\n",
    "\n"
   ]
  },
  {
   "cell_type": "markdown",
   "metadata": {},
   "source": [
    "## Desafio 04\n",
    "- Crie uma calculadora de IMC\n",
    "    - Imprima as seguintes condições:?\n",
    "        - imc <17: está com anorexia.\n",
    "        - imc <18.5: está abaixo do peso\n",
    "        - imc <25: está no peso ideal.\n",
    "        - imc <30: está acima do peso.\n",
    "        - imc <35: está com grau de obesidade I.\n",
    "        - imc <40: está com grau de obesidade II.\n",
    "        - imc: está com grau de obesidade mórbida."
   ]
  },
  {
   "cell_type": "code",
   "execution_count": null,
   "metadata": {},
   "outputs": [],
   "source": [
    "## dados  ##\n",
    "\n",
    "nome = input(\"informe o nme da pessoa doente\")\n",
    "\n",
    "peso = str(input(\"informe o peso do paciente em kg \")).replace(',','.')\n",
    "altura = str(input(\"informe a altura do paciente em metro\")).replace(',','.')\n",
    "\n",
    "imc = float(peso) / float(altura)**2\n",
    "print(f\"valor do IMC: {imc:,.2f}.\")\n",
    "\n",
    "## Conferindo IMC ##\n",
    "\n",
    "if imc <17:\n",
    "    print(f\"{nome} esta com anorexia.\")\n",
    "elif imc <18.5:\n",
    "    print(f\"{nome} esta a baixo do peso.\")\n",
    "elif imc <25:\n",
    "    print(f\"{nome} esta no peso ideal. \")  \n",
    "elif imc <30:\n",
    "    print(f\"{nome} esta acima do peso.\")  \n",
    "elif imc <35:\n",
    "    print(f\"{nome} esta com grau de obesidade I.\")  \n",
    "elif imc <40:\n",
    "    print(f\"{nome} esta com grau de obsidade II.\") \n",
    "\n",
    "else:\n",
    "    print(f\"{nome} esta com grau de obesidade morbidade\")\n",
    "\n"
   ]
  },
  {
   "cell_type": "code",
   "execution_count": null,
   "metadata": {},
   "outputs": [],
   "source": [
    "# TODO: Resposta desafio 04"
   ]
  },
  {
   "cell_type": "markdown",
   "metadata": {},
   "source": [
    "## Desafio 05\n",
    "- Crie uma calculadora basica.\n",
    "    - Solicite 2 números do usuário e pergunte qual operação matemática ele deseja fazer.\n",
    "        -   +; -; /; *\n",
    "        - imprima o resultado correto para cada operação"
   ]
  },
  {
   "cell_type": "code",
   "execution_count": null,
   "metadata": {},
   "outputs": [],
   "source": [
    "# TODO: Resposta desafio 05"
   ]
  },
  {
   "cell_type": "markdown",
   "metadata": {},
   "source": [
    "## desafio 01 ###"
   ]
  }
 ],
 "metadata": {
  "kernelspec": {
   "display_name": "Python 3",
   "language": "python",
   "name": "python3"
  },
  "language_info": {
   "codemirror_mode": {
    "name": "ipython",
    "version": 3
   },
   "file_extension": ".py",
   "mimetype": "text/x-python",
   "name": "python",
   "nbconvert_exporter": "python",
   "pygments_lexer": "ipython3",
   "version": "3.12.4"
  }
 },
 "nbformat": 4,
 "nbformat_minor": 2
}

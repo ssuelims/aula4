{
 "cells": [
  {
   "cell_type": "markdown",
   "metadata": {},
   "source": [
    "######Aula 9#######\n",
    "o laço for e um loops mais usado na programaçao. E um laço de repetiçao como no anterior tambem ,\n",
    "mas com uma diferença:  e semprebexecutado com um numero finito de vezes, evitando que o programa entre  em loop infinito.\n",
    "A desvantagem em relaçao ao while e que o numero de loops dessa vez e ditado pelo proprio programa ao inves do usuario final .\n",
    "Este por sua vez nao possui controle sobre o numero de loops a ser executado no for, ou pelo menos nao diretamente para fins de exemplo,vamos executar um programa parecido com o primeiro programa dessa aula mas desta vez o programa ira exibir numeros de 0 a 4. segue o algoritimo.\n"
   ]
  },
  {
   "cell_type": "code",
   "execution_count": null,
   "metadata": {},
   "outputs": [],
   "source": [
    "nome = (\"sueli\")\n",
    "for n in nome:\n",
    "    print(n)\n",
    "\n",
    "\n",
    "nome = ['sueli','maria', 'jose','joao']  \n",
    "for n in nome:\n",
    "    print(n)\n",
    "\n",
    "    termo = int(input('digite o primeiro termo'))\n",
    "    razao = int(input(\"Digite a razao\"))\n",
    "\n",
    "    pa = termo + (20-1) * razao\n",
    "    for i in range(termo , pa +  razao)\n",
    "    print(i)\n"
   ]
  },
  {
   "cell_type": "code",
   "execution_count": 1,
   "metadata": {},
   "outputs": [
    {
     "name": "stdout",
     "output_type": "stream",
     "text": [
      "                   *\n",
      "                  ***\n",
      "                 *****\n",
      "                *******\n",
      "               *********\n",
      "              ***********\n",
      "             *************\n",
      "            ***************\n",
      "           *****************\n",
      "          *******************\n",
      "         *********************\n",
      "        ***********************\n",
      "       *************************\n",
      "      ***************************\n",
      "     *****************************\n",
      "    *******************************\n",
      "   *********************************\n",
      "  ***********************************\n",
      " *************************************\n",
      "***************************************\n"
     ]
    }
   ],
   "source": [
    "altura = 20\n",
    "espaçamento = 0\n",
    "asterisco = 1\n",
    "simbolo = '*'\n",
    "for i in range(altura):\n",
    "    espacamento = altura - i -1\n",
    "    for j in range(espacamento):\n",
    "        print(' ', end='')\n",
    "\n",
    "    for k in range(asterisco):\n",
    "        print(simbolo,end='')\n",
    "\n",
    "    print()\n",
    "    asterisco +=2\n"
   ]
  }
 ],
 "metadata": {
  "kernelspec": {
   "display_name": "Python 3",
   "language": "python",
   "name": "python3"
  },
  "language_info": {
   "codemirror_mode": {
    "name": "ipython",
    "version": 3
   },
   "file_extension": ".py",
   "mimetype": "text/x-python",
   "name": "python",
   "nbconvert_exporter": "python",
   "pygments_lexer": "ipython3",
   "version": "3.12.4"
  }
 },
 "nbformat": 4,
 "nbformat_minor": 2
}
